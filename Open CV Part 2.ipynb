{
 "cells": [
  {
   "cell_type": "markdown",
   "metadata": {},
   "source": [
    "## Following Along OpenCV tutorial. "
   ]
  },
  {
   "cell_type": "markdown",
   "metadata": {},
   "source": [
    "### Rescaling images and videos. "
   ]
  },
  {
   "cell_type": "code",
   "execution_count": null,
   "metadata": {},
   "outputs": [],
   "source": [
    "# Create a function that can rescale large images. \n",
    "\n",
    "def rescaleFrame(frame, scale = 0.75):\n",
    "    width = int(frame.shape[1] * scale)\n",
    "    height = int(frame.shape[0] * scale)\n",
    "    dimensions = (width, height)\n",
    "    \n",
    "    return cv.resize(frame, dimensions, interpolation = cv.INTER.AREA)\n",
    "\n",
    "cv.waitKey(0)\n",
    "\n",
    "# Reading video\n",
    "\n",
    "capture = cv.VideoCapture('FILE LINK HERE.mp4')\n",
    "\n",
    "# This is display it for us. \n",
    "\n",
    "while True:\n",
    "    isTrue, frame = capture.read()\n",
    "    \n",
    "    # resize the frame of the video. \n",
    "    frame_resized = rescaleFrame(frame)\n",
    "    \n",
    "    cv.imshow('Video', frame)\n",
    "    cv.imshow('Resized', frame_resized)\n",
    "    # End the video capture  \n",
    "    \n",
    "    #If first condition is met and also we press the d button then end the loop.\n",
    "    \n",
    "    if cv.waitKey(20) & 0xFF == ord('d'):\n",
    "        break\n",
    "        \n",
    "capture.release()\n",
    "cv.destoryAllWindows()"
   ]
  },
  {
   "cell_type": "code",
   "execution_count": null,
   "metadata": {},
   "outputs": [],
   "source": [
    "# Read an image of a cat. \n",
    "\n",
    "img = cv.imread('/Users/tradk/dogs-vs-cats/train/cat.1.jpg')\n",
    " \n",
    "# Resclae the original image of te cat. \n",
    "\n",
    "resized_img = rescaleFrame(img)\n",
    "\n",
    "# Display the new image \n",
    "\n",
    "cv.imshow('Resized Cat', resized_img)\n",
    "\n",
    "cv.waitKey(0)\n"
   ]
  }
 ],
 "metadata": {
  "kernelspec": {
   "display_name": "Python 3",
   "language": "python",
   "name": "python3"
  },
  "language_info": {
   "codemirror_mode": {
    "name": "ipython",
    "version": 3
   },
   "file_extension": ".py",
   "mimetype": "text/x-python",
   "name": "python",
   "nbconvert_exporter": "python",
   "pygments_lexer": "ipython3",
   "version": "3.7.6"
  }
 },
 "nbformat": 4,
 "nbformat_minor": 4
}
